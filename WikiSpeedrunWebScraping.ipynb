{
 "cells": [
  {
   "attachments": {},
   "cell_type": "markdown",
   "metadata": {},
   "source": [
    "# Wikipedia Speedrun Project: Web Scraping!"
   ]
  },
  {
   "cell_type": "code",
   "execution_count": 2,
   "metadata": {},
   "outputs": [],
   "source": [
    "# import relevant libraries\n",
    "\n",
    "from bs4 import BeautifulSoup\n",
    "import requests\n",
    "import numpy as np\n",
    "import random"
   ]
  },
  {
   "attachments": {},
   "cell_type": "markdown",
   "metadata": {},
   "source": [
    "#### Initialize important variables and functions\n"
   ]
  },
  {
   "cell_type": "code",
   "execution_count": 23,
   "metadata": {},
   "outputs": [],
   "source": [
    "def getLinkData(link):\n",
    "    Wikidata = requests.get(link)\n",
    "    htmldata = BeautifulSoup(Wikidata.content, 'html.parser')\n",
    "    result = htmldata.prettify()\n",
    "    return result\n",
    "\n",
    "def checkIfVisited(curlink, storelinks, startIdx, endIdx):\n",
    "    for i in range(startIdx, endIdx):\n",
    "        if(\"https://en.wikipedia.org\" + curlink == storelinks[i]):\n",
    "            return True\n",
    "    return False\n",
    "\n"
   ]
  },
  {
   "attachments": {},
   "cell_type": "markdown",
   "metadata": {},
   "source": [
    "#### write function to recurse through hyperlinks!"
   ]
  },
  {
   "cell_type": "code",
   "execution_count": 24,
   "metadata": {},
   "outputs": [
    {
     "name": "stdout",
     "output_type": "stream",
     "text": [
      "29761\n"
     ]
    }
   ],
   "source": [
    "storelinks = np.array(np.zeros(100000), dtype = str) # initialize memory\n",
    "storelinks = storelinks.astype('U256') #convert to type that allows longer strings\n",
    "startPage = \"https://en.wikipedia.org/wiki/Casiopea\"\n",
    "curPageData = getLinkData(startPage) #call function that returns web page data\n",
    "numLinks = 0\n",
    "curIdx = 0\n",
    "totNumSteps = 100 # number of iterations... control this for testing!\n",
    "storeStepIndices = np.empty(shape = totNumSteps) \n",
    "storeSteps = []\n",
    "storeStepNames = []\n",
    "for numSteps in range(totNumSteps):\n",
    "    links = [i for i in range(len(curPageData)) if curPageData.startswith(\"<a href=\\\"/wiki\", i)] # isolate each hyperlink\n",
    "    title = [i for i in range(len(curPageData)) if curPageData.startswith(\"<title\", i)] #isolate title\n",
    "    storeStepNames.append(curPageData[title[0] + 7 : title[0] + (curPageData[title[0] : title[0]+200]).find(' -')]) #add title to list\n",
    "    for i in range(len(links)):\n",
    "        curlink = curPageData[links[i] + 9 : links[i] + (curPageData[links[i]:links[i]+200]).find('\" title')]\n",
    "        if(curlink and curlink.find(':') < 0 and not checkIfVisited(curlink, storelinks, int(storeStepIndices[numSteps - 1]), numLinks)): #filter out: empty links, links already visited in the same iteration, and internal wikipedia links such as \"Directory:\" and \"Help:\"\n",
    "            storelinks[numLinks] = \"https://en.wikipedia.org\" + curlink #store in proper hyperlink formatting\n",
    "            storeSteps.append(numSteps) # replace with numSteps for actual output, something like 1 for testing unique hyperlinks\n",
    "            numLinks += 1\n",
    "    storeStepIndices[numSteps] = numLinks\n",
    "    nextlink = storelinks[curIdx] if (getLinkData(storelinks[curIdx]) != curPageData) else storelinks[curIdx + 1]\n",
    "    curPageData = getLinkData(nextlink)\n",
    "    randIdx = 1 if (numSteps == 0) else (storeStepIndices[numSteps] - storeStepIndices[numSteps - 1])\n",
    "    curIdx += random.randrange(0, int(randIdx))\n",
    "storelinks = storelinks[storelinks != '0.0']\n",
    "for i in range(len(storelinks)):                                #format and write to files\n",
    "    storelinks[i] += (\" \" + str(storeSteps[i]) + '\\n')\n",
    "for i in range(len(storeStepNames)):\n",
    "    storeStepNames[i] += (\" \" + \"->\")\n",
    "\n",
    "file1 = open('output1.txt', 'w', encoding = 'utf-8')\n",
    "file1.writelines(storelinks)\n",
    "file1.close()\n",
    "\n",
    "file2 = open('output2.txt', 'w', encoding = 'utf-8')\n",
    "file2.writelines(storeStepNames)\n",
    "file2.close()\n",
    "\n",
    "print(len(storelinks))\n"
   ]
  },
  {
   "cell_type": "code",
   "execution_count": 50,
   "metadata": {},
   "outputs": [
    {
     "name": "stdout",
     "output_type": "stream",
     "text": [
      "['https://en.wikipedia.org/wiki/Main_Page', 'https://en.wikipedia.org/wiki/Main_Page', 'https://en.wikipedia.org/wiki/Casiopea', 'https://en.wikipedia.org/wiki/Casiopea', 'https://en.wikipedia.org/wiki/Casiopea', 'https://en.wikipedia.org/wiki/Cassiopeia_(disambiguation)', 'https://en.wikipedia.org//www.google.com/search?as_eq=wikipedia&q=%22Casiopea%22', 'https://en.wikipedia.org/wiki/Issei_Noro', 'https://en.wikipedia.org/wiki/Akira_Jimbo', 'https://en.wikipedia.org/wiki/Tokyo', 'https://en.wikipedia.org/wiki/Jazz_fusion', 'https://en.wikipedia.org/wiki/Jazz-funk', 'https://en.wikipedia.org/wiki/Smooth_jazz', 'https://en.wikipedia.org/wiki/City_pop', 'https://en.wikipedia.org/wiki/Alfa_Records', 'https://en.wikipedia.org/wiki/Polydor_Records', 'https://en.wikipedia.org/wiki/Pioneer_Entertainment', 'https://en.wikipedia.org/wiki/Pony_Canyon', 'https://en.wikipedia.org/wiki/Issei_Noro', 'https://en.wikipedia.org/wiki/Minoru_Mukaiya', 'https://en.wikipedia.org/wiki/Tetsuo_Sakurai', 'https://en.wikipedia.org/wiki/Masaaki_Hiyama', 'https://en.wikipedia.org/wiki/Akira_Jimbo', 'https://en.wikipedia.org/wiki/Cassiopeia_(constellation)', 'https://en.wikipedia.org/wiki/Jazz_fusion', 'https://en.wikipedia.org/wiki/Issei_Noro', 'https://en.wikipedia.org/wiki/Tetsuo_Sakurai', 'https://en.wikipedia.org/wiki/Minoru_Mukaiya', 'https://en.wikipedia.org/wiki/Randy_Brecker', 'https://en.wikipedia.org/wiki/Michael_Brecker', 'https://en.wikipedia.org/wiki/David_Sanborn', 'https://en.wikipedia.org/wiki/Akira_Jimbo', 'https://en.wikipedia.org/wiki/Minoru_Mukaiya', 'https://en.wikipedia.org/wiki/Tetsuo_Sakurai', 'https://en.wikipedia.org/wiki/Issei_Noro', 'https://en.wikipedia.org/wiki/Tetsuo_Sakurai', 'https://en.wikipedia.org/wiki/Minoru_Mukaiya', 'https://en.wikipedia.org/wiki/Alfa_Records', 'https://en.wikipedia.org/wiki/Casiopea_(album)', 'https://en.wikipedia.org/wiki/Super_Flight', 'https://en.wikipedia.org/wiki/Akira_Jimbo', 'https://en.wikipedia.org/wiki/Cross_Point_(album)', 'https://en.wikipedia.org/wiki/Eyes_of_the_Mind', 'https://en.wikipedia.org/wiki/Mint_Jams', 'https://en.wikipedia.org/wiki/4x4_(Casiopea_album)', 'https://en.wikipedia.org/wiki/Lee_Ritenour', 'https://en.wikipedia.org/wiki/Harvey_Mason', 'https://en.wikipedia.org/wiki/Nathan_East', 'https://en.wikipedia.org/wiki/Don_Grusin', 'https://en.wikipedia.org/wiki/Polydor_Records', 'https://en.wikipedia.org/wiki/City_pop', 'https://en.wikipedia.org/wiki/Jimsaku', 'https://en.wikipedia.org/wiki/Masaaki_Hiyama', 'https://en.wikipedia.org/wiki/Masaaki_Hiyama', 'https://en.wikipedia.org/wiki/Pony_Canyon', 'https://en.wikipedia.org/wiki/20th_(album)', 'https://en.wikipedia.org/wiki/Train_Simulator_series', 'https://en.wikipedia.org/wiki/COVID-19_pandemic', 'https://en.wikipedia.org/wiki/Hiroyuki_Noritake', 'https://en.wikipedia.org/wiki/T-Square_(band)', 'https://en.wikipedia.org/wiki/Masahiro_Andoh', 'https://en.wikipedia.org/wiki/The_Beatles', 'https://en.wikipedia.org/wiki/Get_Back_(Beatles_Song)', 'https://en.wikipedia.org/wiki/Saxophone', 'https://en.wikipedia.org/wiki/EWI_(musical_instrument)', 'https://en.wikipedia.org/wiki/Issei_Noro', 'https://en.wikipedia.org/wiki/Yellow_Magic_Orchestra', 'https://en.wikipedia.org/wiki/Shuichi_Murakami', 'https://en.wikipedia.org/wiki/Minoru_Mukaiya', 'https://en.wikipedia.org/wiki/Train_simulator', 'https://en.wikipedia.org/wiki/Train_Simulator_series', 'https://en.wikipedia.org/wiki/Jun_Fukamachi', 'https://en.wikipedia.org/wiki/Prism_(Japanese_band)', 'https://en.wikipedia.org/wiki/Tetsuo_Sakurai', 'https://en.wikipedia.org/wiki/Prism_(Japanese_band)', 'https://en.wikipedia.org/wiki/Shuichi_Murakami', 'https://en.wikipedia.org/wiki/Akira_Jimbo', 'https://en.wikipedia.org/wiki/Jimsaku', 'https://en.wikipedia.org/wiki/Nettai_Tropical_Jazz_Big_Band', 'https://en.wikipedia.org/wiki/Masaaki_Hiyama', 'https://en.wikipedia.org/wiki/Casiopea_Perfect_Live_II', 'https://en.wikipedia.org/wiki/Platinum_(Casiopea_album)', 'https://en.wikipedia.org/wiki/Casiopea_(album)', 'https://en.wikipedia.org/wiki/Super_Flight', 'https://en.wikipedia.org/wiki/Make_Up_City', 'https://en.wikipedia.org/wiki/Eyes_of_the_Mind', 'https://en.wikipedia.org/wiki/Cross_Point_(album)', 'https://en.wikipedia.org/wiki/4x4_(Casiopea_album)', 'https://en.wikipedia.org/wiki/Photographs_(Casiopea_album)', 'https://en.wikipedia.org/wiki/Jive_Jive', 'https://en.wikipedia.org/wiki/The_Soundgraphy', 'https://en.wikipedia.org/wiki/Down_Upbeat', 'https://en.wikipedia.org/wiki/Halle_(album)', 'https://en.wikipedia.org/wiki/Sun_Sun', 'https://en.wikipedia.org/wiki/Platinum_(Casiopea_album)', 'https://en.wikipedia.org/wiki/Euphony_(Casiopea_album)', 'https://en.wikipedia.org/wiki/The_Party_(Casiopea_album)', 'https://en.wikipedia.org/wiki/Full_Colors', 'https://en.wikipedia.org/wiki/Active_(album)', 'https://en.wikipedia.org/wiki/Answers_(album)', 'https://en.wikipedia.org/wiki/Asian_Dreamer', 'https://en.wikipedia.org/wiki/Light_and_Shadows', 'https://en.wikipedia.org/wiki/Be_(Casiopea_album)', 'https://en.wikipedia.org/wiki/Material_(Casiopea_album)', 'https://en.wikipedia.org/wiki/Bitter_Sweet_(Casiopea_album)', 'https://en.wikipedia.org/wiki/Thunder_Live', 'https://en.wikipedia.org/wiki/Mint_Jams', 'https://en.wikipedia.org/wiki/Casiopea_Live', 'https://en.wikipedia.org/wiki/Casiopea_Perfect_Live_II', 'https://en.wikipedia.org/wiki/Casiopea_World_Live_%2788', 'https://en.wikipedia.org/wiki/20th_(album)', 'https://en.wikipedia.org/wiki/T-Square_(band)', 'https://en.wikipedia.org/wiki/Twitter', 'https://en.wikipedia.org/wiki/Twitter', 'https://en.wikipedia.org/wiki/MusicBrainz', 'https://en.wikipedia.org/wiki/Discogs', 'https://en.wikipedia.org/wiki/Issei_Noro', 'https://en.wikipedia.org/wiki/Akira_Jimbo', 'https://en.wikipedia.org/wiki/Minoru_Mukaiya', 'https://en.wikipedia.org/wiki/Tetsuo_Sakurai', 'https://en.wikipedia.org/wiki/Masaaki_Hiyama', 'https://en.wikipedia.org/wiki/Casiopea_(album)', 'https://en.wikipedia.org/wiki/Super_Flight', 'https://en.wikipedia.org/wiki/Make_Up_City', 'https://en.wikipedia.org/wiki/Eyes_of_the_Mind', 'https://en.wikipedia.org/wiki/Cross_Point_(album)', 'https://en.wikipedia.org/wiki/4x4_(Casiopea_album)', 'https://en.wikipedia.org/wiki/Photographs_(Casiopea_album)', 'https://en.wikipedia.org/wiki/Jive_Jive', 'https://en.wikipedia.org/wiki/Down_Upbeat', 'https://en.wikipedia.org/wiki/Halle_(album)', 'https://en.wikipedia.org/wiki/Sun_Sun', 'https://en.wikipedia.org/wiki/Platinum_(Casiopea_album)', 'https://en.wikipedia.org/wiki/Euphony_(Casiopea_album)', 'https://en.wikipedia.org/wiki/The_Party_(Casiopea_album)', 'https://en.wikipedia.org/wiki/Full_Colors', 'https://en.wikipedia.org/wiki/Active_(album)', 'https://en.wikipedia.org/wiki/Dramatic_(album)', 'https://en.wikipedia.org/wiki/Answers_(album)', 'https://en.wikipedia.org/wiki/Hearty_Notes', 'https://en.wikipedia.org/wiki/Asian_Dreamer', 'https://en.wikipedia.org/wiki/Freshness_(album)', 'https://en.wikipedia.org/wiki/Flowers_(Casiopea_album)', 'https://en.wikipedia.org/wiki/Light_and_Shadows', 'https://en.wikipedia.org/wiki/Be_(Casiopea_album)', 'https://en.wikipedia.org/wiki/Material_(Casiopea_album)', 'https://en.wikipedia.org/wiki/Bitter_Sweet_(Casiopea_album)', 'https://en.wikipedia.org/wiki/Main_Gate', 'https://en.wikipedia.org/wiki/Inspire_(Casiopea_album)', 'https://en.wikipedia.org/wiki/Places_(Casiopea_album)', 'https://en.wikipedia.org/wiki/Marble_(Casiopea_album)', 'https://en.wikipedia.org/wiki/Signal_(album)', 'https://en.wikipedia.org/wiki/Thunder_Live', 'https://en.wikipedia.org/wiki/Mint_Jams', 'https://en.wikipedia.org/wiki/Casiopea_Live', 'https://en.wikipedia.org/wiki/Casiopea_Perfect_Live_II', 'https://en.wikipedia.org/wiki/Casiopea_World_Live_%2788', 'https://en.wikipedia.org/wiki/We_Want_More', 'https://en.wikipedia.org/wiki/20th_(album)', 'https://en.wikipedia.org/wiki/Gig25_(album)', 'https://en.wikipedia.org/wiki/The_Soundgraphy', 'https://en.wikipedia.org/wiki/Jimsaku', 'https://en.wikipedia.org/wiki/T-Square_(band)', 'https://en.wikipedia.org/wiki/Prism_(Japanese_band)', 'https://en.wikipedia.org/wiki/Randy_Brecker', 'https://en.wikipedia.org/wiki/Michael_Brecker', 'https://en.wikipedia.org/wiki/Harvey_Mason', 'https://en.wikipedia.org//foundation.wikimedia.org/wiki/Terms_of_Use', 'https://en.wikipedia.org//foundation.wikimedia.org/wiki/Privacy_policy', 'https://en.wikipedia.org//www.wikimediafoundation.org/', 'https://en.wikipedia.org//en.m.wikipedia.org/w/index.php?title=Casiopea&mobileaction=toggle_view_mobile']\n"
     ]
    }
   ],
   "source": [
    "testlinkarr = []\n",
    "testdata = requests.get(\"https://en.wikipedia.org/wiki/Casiopea\")\n",
    "testhtmldata = BeautifulSoup(testdata.content, 'html.parser')\n",
    "for link in testhtmldata.find_all('a', href = True):\n",
    "    curlink = link['href']\n",
    "    if(curlink and curlink.find(':') < 0 and curlink.find('wiki') > 0):\n",
    "        testlinkarr.append(\"https://en.wikipedia.org\" + curlink)\n",
    "    \n",
    "print(testlinkarr)\n",
    "\n"
   ]
  },
  {
   "attachments": {},
   "cell_type": "markdown",
   "metadata": {},
   "source": [
    "current record:\n",
    "\n",
    "\n",
    "1000 steps, 333585 unique links, 14m 2.7s runtime\n",
    "\n",
    "\n",
    "100 steps, 33293 unique links, 1m 55.1s runtime\n",
    "\n",
    "\n",
    "10 steps, 678 unique links, 43.8s runtime\n",
    "\n",
    "\n",
    "1 step, 146 unique links, 31.2s runtime\n"
   ]
  }
 ],
 "metadata": {
  "kernelspec": {
   "display_name": "Python 3",
   "language": "python",
   "name": "python3"
  },
  "language_info": {
   "codemirror_mode": {
    "name": "ipython",
    "version": 3
   },
   "file_extension": ".py",
   "mimetype": "text/x-python",
   "name": "python",
   "nbconvert_exporter": "python",
   "pygments_lexer": "ipython3",
   "version": "3.10.11"
  },
  "orig_nbformat": 4
 },
 "nbformat": 4,
 "nbformat_minor": 2
}
